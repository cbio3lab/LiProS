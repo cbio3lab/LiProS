{
  "nbformat": 4,
  "nbformat_minor": 0,
  "metadata": {
    "colab": {
      "provenance": [],
      "authorship_tag": "ABX9TyNfGQU1aQAHhN21cMT35eKe",
      "include_colab_link": true
    },
    "kernelspec": {
      "name": "python3",
      "display_name": "Python 3"
    },
    "language_info": {
      "name": "python"
    }
  },
  "cells": [
    {
      "cell_type": "markdown",
      "metadata": {
        "id": "view-in-github",
        "colab_type": "text"
      },
      "source": [
        "<a href=\"https://colab.research.google.com/github/ebertsch123/LiProS/blob/main/LiProS.ipynb\" target=\"_parent\"><img src=\"https://colab.research.google.com/assets/colab-badge.svg\" alt=\"Open In Colab\"/></a>"
      ]
    },
    {
      "cell_type": "markdown",
      "source": [
        "# **LiProS**\n",
        "\n",
        "<img src=\"https://i.imgur.com/FjTNXlA.png\" width=\"75\">\n",
        "\n",
        "---\n",
        "\n",
        "**A FAIR workflow to determine accurate lipophilicity profiles for small molecules.**\n",
        "\n",
        "\n",
        "$\\log{D}$ is an evergrowing physicochemical property applied in drug design, environmental chemistry, medicinal chemistry, and food chemistry. It is often not possible to measure the $\\log{D}$ of a molecule. Therefore, the use of thermodynamically derived equations has been successful in facilitating straightforward calculations. In this case, 2 main equations have been used.\n",
        "\n",
        "### **Equation 1:**\n",
        "\n",
        "$$\\log{D_{\\text{pH}}} = \\log{P_{\\text{N}}}-\\log{\\left(1+10^{\\delta}\\right)}$$\n",
        "\n",
        "### **Equation 2:**\n",
        "\n",
        "$$\\log{D_{\\text{pH}}} = \\log{\\left(P_{\\text{N}}+P_{\\text{I}}^{\\text{app}}\\cdot10^{\\delta}\\right)}-\\log{\\left(1+10^{\\delta}\\right)}$$\n",
        "\n",
        "**Equation 1** is often used due to its simplicity. On the other hand, **Equation 2** often gives more accurate computations, but it requires more experimental data (the applied ionic partition coefficient of a molecule ($P_{\\text{I}}^{\\text{app}}$)).\n",
        "\n",
        "*Which equation do we use and in which cases?* This script will help you with this decision with the aim of the most accurate and efficient lipophilicity calculations.\n",
        "\n",
        "\n",
        "\n",
        "---\n",
        "\n",
        "\n",
        "\n",
        " **WARNING:** *This model was created for small organic molecules. Unaccurate results might occur if large molecules (M > 1000 Da), salts, or organometallic complexes are evaluated.*"
      ],
      "metadata": {
        "id": "5eKRJW8ANY0F"
      }
    },
    {
      "cell_type": "markdown",
      "source": [
        "\n",
        "\n",
        "---\n",
        "\n",
        "\n",
        "## **1. Tools Instalation**\n",
        "\n",
        "These cells do not need any imput. You just have to run them.\n",
        "\n",
        "You can run the cells by pressing the *play* button, or by pressing `ctrl + Enter`.\n",
        "\n",
        "\n",
        "\n",
        "\n",
        "\n"
      ],
      "metadata": {
        "id": "h8p6ANfKNqH_"
      }
    },
    {
      "cell_type": "markdown",
      "source": [
        "This first cell might run for a couple of minutes."
      ],
      "metadata": {
        "id": "MOi9C6DLf-sg"
      }
    },
    {
      "cell_type": "code",
      "source": [
        "%%capture\n",
        "#install required packages\n",
        "!pip install condacolab\n",
        "import condacolab\n",
        "condacolab.install()\n",
        "!mamba install openbabel\n",
        "!mamba install rdkit\n",
        "!pip install jazzy\n",
        "!mamba install r-rcdk\n",
        "!mamba install bioconda::bioconductor-chemminer=3.50\n",
        "!mamba install r-dplyr\n",
        "!mamba install rpy2=3.5.1\n",
        "!mamba install r-caret\n",
        "!mamba install r-dplyr\n",
        "!mamba install r-Metrics\n",
        "!mamba install r-randomForest\n",
        "!mamba install r-e1071\n",
        "\n",
        "#import the files and script for our models from repositories\n",
        "!git clone https://github.com/Anto3006/CalculateDescriptors.git\n",
        "!cp CalculateDescriptors/* .\n",
        "!rm -r CalculateDescriptors\n",
        "!git clone https://github.com/ebertsch123/LiProS.git"
      ],
      "metadata": {
        "id": "3-L4kFeFU4p_"
      },
      "execution_count": null,
      "outputs": []
    },
    {
      "cell_type": "markdown",
      "source": [
        "Keep running these lines. No input should be required"
      ],
      "metadata": {
        "id": "epv7Jzevhjga"
      }
    },
    {
      "cell_type": "code",
      "source": [
        "%%capture\n",
        "#activate the R environment to import our models\n",
        "%load_ext rpy2.ipython"
      ],
      "metadata": {
        "id": "cqOdx5-TXgA-"
      },
      "execution_count": null,
      "outputs": []
    },
    {
      "cell_type": "markdown",
      "source": [
        "Keep running these lines. No input should be required"
      ],
      "metadata": {
        "id": "i_0hd53Yhoth"
      }
    },
    {
      "cell_type": "code",
      "source": [
        "%%capture\n",
        "%%R\n",
        "source('/content/LiProS/models.R') #load our models"
      ],
      "metadata": {
        "id": "R5Fqb1VWX9fv"
      },
      "execution_count": null,
      "outputs": []
    },
    {
      "cell_type": "markdown",
      "source": [
        "Keep running..."
      ],
      "metadata": {
        "id": "iIkt-XG-rHwz"
      }
    },
    {
      "cell_type": "code",
      "source": [
        "import pandas as pd\n",
        "pd.DataFrame.iteritems = pd.DataFrame.items\n",
        "import rpy2.robjects as ro\n",
        "from rpy2.robjects import pandas2ri\n",
        "pandas2ri.activate()\n",
        "from google.colab import files\n",
        "\n",
        "#transform R dataframes into pandas dataframes\n",
        "acids_d = ro.conversion.rpy2py(ro.r['acids_d']).drop(columns=['cond'])\n",
        "bases_d = ro.conversion.rpy2py(ro.r['bases_d']).drop(columns=['cond'])\n",
        "\n",
        "#calculate descriptors function\n",
        "from calculateDescriptors import calculateDescriptors\n",
        "\n",
        "def create_descriptors_table(smiles):\n",
        "    if len(smiles) == 0:\n",
        "      return\n",
        "    unique_smiles = len(smiles) == 1\n",
        "    if unique_smiles:\n",
        "      smiles = smiles + [\"C\"]\n",
        "    descriptors = calculateDescriptors(smiles)\n",
        "    if unique_smiles:\n",
        "      descriptors.drop(descriptors.tail(1).index,inplace = True)\n",
        "      smiles = smiles[:-1]\n",
        "    return descriptors"
      ],
      "metadata": {
        "id": "335vAJWVduBn"
      },
      "execution_count": null,
      "outputs": []
    },
    {
      "cell_type": "markdown",
      "source": [
        "\n",
        "\n",
        "---\n",
        "\n",
        "\n",
        "## **2. Import your molecules**\n"
      ],
      "metadata": {
        "id": "Lkf5BT7NDfS2"
      }
    },
    {
      "cell_type": "markdown",
      "source": [
        "### **2.1. Acidic Molecules**\n",
        "\n",
        "**In this section, you will only import your acidic molecules.**\n",
        "\n",
        "In the following cells, you will input your molecules.\n",
        "\n",
        "The next cell will give you 3 commands:\n",
        "\n",
        "\n",
        "1.   `Enter the SMILES of your ACIDIC molecules:`\n",
        "Herein, you will paste the SMILES code of your molecule(s). If you want to input multiple molecules, you have to enter each SMILES code separated by spaces. You need to enter at least **two molecules**.\n",
        "2.   `Enter the (estimated) pKa:`\n",
        "Enter the $\\text{p}K_{\\text{a}}$ of the molecule. You can estimate its value if needed. Otherwise, you can use $\\text{p}K_{\\text{a}}$ prediction tools (https://playground.calculators.cxn.io/). **These values should be separated between spaces**.\n",
        "3.   `Enter the desired pH:`\n",
        "Enter the desired pH, in which you want to calculate its $\\log{D}$ value. **These values should be separated between spaces**."
      ],
      "metadata": {
        "id": "-uw786kLTWDM"
      }
    },
    {
      "cell_type": "code",
      "source": [
        "%%capture\n",
        "from google.colab import data_table\n",
        "data_table.enable_dataframe_formatter()\n",
        "smiles = input(\"Enter the SMILES of your ACIDIC molecules:\\n\")\n",
        "pKa = input(\"Enter the (estimated) pKa:\\n\")\n",
        "pH = input(\"Enter the desired pH:\\n\")\n",
        "pd.option_context('display.max_rows',None)\n",
        "descriptors = create_descriptors_table(smiles.split(\" \")) #calculate descriptors from SMILES\n",
        "descriptors['pKa'] = pKa.split(\" \")\n",
        "descriptors['pH'] = pH.split(\" \")\n",
        "descriptors['pKa'] = descriptors['pKa'].astype(float)\n",
        "descriptors['pH'] = descriptors['pH'].astype(float)\n",
        "descriptors['delta'] = descriptors.apply(lambda row: row['pH'] - row['pKa'], axis=1)\n",
        "descriptors = descriptors[acids_d.columns] #filter the descriptors to only get the necessary ones to predict our outcomes"
      ],
      "metadata": {
        "id": "mO5SnuwGh0mv"
      },
      "execution_count": null,
      "outputs": []
    },
    {
      "cell_type": "markdown",
      "source": [
        "Keep running these cells"
      ],
      "metadata": {
        "id": "hwLeu2tgkVgh"
      }
    },
    {
      "cell_type": "code",
      "source": [
        "%%R -i descriptors\n",
        "LR_fit = as.numeric(predict(model_LR_A, descriptors))\n",
        "RF_fit = as.numeric(predict(model_RF_A, descriptors))\n",
        "SVML_fit = as.numeric(predict(model_SVML_A, descriptors))\n",
        "descriptors$Prediction = ifelse(as.factor(round((LR_fit + RF_fit + SVML_fit)/3-1,0))=='0','Use Eq. 2', 'Use Eq. 1')"
      ],
      "metadata": {
        "id": "uzdWbhrv8wcE"
      },
      "execution_count": null,
      "outputs": []
    },
    {
      "cell_type": "markdown",
      "source": [
        "The following cell will give you the **predictions**. The \"prediction\" will recommend you which equation is the most appropriate depending on the molecule and desired pH.\n",
        "\n",
        "A csv file named `logD_acids.csv` will be created and automatically downloaded."
      ],
      "metadata": {
        "id": "gdNF9_BYmCbJ"
      }
    },
    {
      "cell_type": "code",
      "source": [
        "descriptors = ro.conversion.rpy2py(ro.r['descriptors'])\n",
        "\n",
        "output = {'smiles': smiles.split(\" \"),'pH': pH.split(\" \"), 'Prediction': descriptors['Prediction']}\n",
        "output = pd.DataFrame(output)\n",
        "output.to_csv('LiProS_acids.csv', index = False)\n",
        "files.download('LiProS_acids.csv')\n",
        "output"
      ],
      "metadata": {
        "id": "yKv_cnqY9uK0"
      },
      "execution_count": null,
      "outputs": []
    },
    {
      "cell_type": "markdown",
      "source": [
        "\n",
        "\n",
        "---\n",
        "\n",
        "\n",
        "### **2.2. Basic Molecules**\n",
        "\n",
        "**In this section, you will only import your basic molecules.**\n",
        "\n",
        "In the following cells, you will input your molecule.\n",
        "\n",
        "The next cell will give you 3 commands:\n",
        "\n",
        "\n",
        "1.   `Enter the SMILES of your BASIC molecules:`\n",
        "Herein, you will paste the SMILES code of your molecule(s). If you want to input multiple molecules, you have to enter each SMILES code separated by spaces.\n",
        "2.   `Enter the (estimated) pKa:`\n",
        "Enter the $\\text{p}K_{\\text{a}}$ of the molecule. You can estimate its value if needed. Otherwise, you can use $\\text{p}K_{\\text{a}}$ prediction tools (https://playground.calculators.cxn.io/). **These values should be separated between spaces**.\n",
        "3.   `Enter the desired pH:`\n",
        "Enter the desired pH, in which you want to calculate its $\\log{D}$ value. **These values should be separated between spaces**."
      ],
      "metadata": {
        "id": "CCnWztFzoRe8"
      }
    },
    {
      "cell_type": "code",
      "source": [
        "%%capture\n",
        "from google.colab import data_table\n",
        "data_table.enable_dataframe_formatter()\n",
        "smiles = input(\"Enter the SMILES of your BASIC molecules:\\n\")\n",
        "pKa = input(\"Enter the (estimated) pKa:\\n\")\n",
        "pH = input(\"Enter the desired pH:\\n\")\n",
        "pd.option_context('display.max_rows',None)\n",
        "descriptors = create_descriptors_table(smiles.split(\" \"))\n",
        "descriptors['pKa'] = pKa.split(\" \")\n",
        "descriptors['pH'] = pH.split(\" \")\n",
        "descriptors['pKa'] = descriptors['pKa'].astype(float)\n",
        "descriptors['pH'] = descriptors['pH'].astype(float)\n",
        "descriptors['delta'] = descriptors.apply(lambda row: row['pKa'] - row['pH'], axis=1)\n",
        "descriptors = descriptors[bases_d.columns]"
      ],
      "metadata": {
        "id": "3etHhwY4Fr8b"
      },
      "execution_count": null,
      "outputs": []
    },
    {
      "cell_type": "code",
      "source": [
        "%%R -i descriptors\n",
        "descriptors$Prediction = ifelse(predict(model_SVML_B, descriptors)=='0','Use Eq. 2', 'Use Eq. 1')"
      ],
      "metadata": {
        "id": "6pGbWlvHGLz2"
      },
      "execution_count": null,
      "outputs": []
    },
    {
      "cell_type": "markdown",
      "source": [
        "The following cell will give you the **predictions**. The \"prediction\" will recommend you which equation is the most appropriate depending on the molecule and desired pH.\n",
        "\n",
        "A csv file named `logD_bases.csv` will be created and automatically downloaded."
      ],
      "metadata": {
        "id": "T80L7n1DnsnY"
      }
    },
    {
      "cell_type": "code",
      "source": [
        "descriptors = ro.conversion.rpy2py(ro.r['descriptors'])\n",
        "\n",
        "output = {'smiles': smiles.split(\" \"),'pH': pH.split(\" \"), 'Prediction': descriptors['Prediction']}\n",
        "output = pd.DataFrame(output)\n",
        "output.to_csv('LiProS_bases.csv', index = False)\n",
        "files.download('LiProS_bases.csv')\n",
        "output"
      ],
      "metadata": {
        "id": "526S1CsuGfuU"
      },
      "execution_count": null,
      "outputs": []
    },
    {
      "cell_type": "markdown",
      "source": [
        "##**2.3. Insert your data in a `.xlsx` file**\n",
        "\n",
        "Otherwise, you can input your data as a `.xlsx` file.\n",
        "\n",
        "Your file must contain the following columns:\n",
        "\n",
        "1. **`SMILES`:** The SMILES code for each molecules.\n",
        "2. **`type`:** Is your molecule acidic or basic? You must enter \"acid\" if the molecule is acidic or \"base\" if the molecule is basic.\n",
        "3. **`pKa`:** The $\\text{p}K_{\\text{a}}$ of your molecule. It can be an estimated value.\n",
        "4. **`pH`:** The desired pH of this molecule.\n",
        "\n",
        "First, upload your `.csv` file into this colab in the \"files\" menu on the left of the screen.\n",
        "\n",
        "Then, run the next cell and type the name of your `.xlsx` file."
      ],
      "metadata": {
        "id": "mIqQS1DgpgKQ"
      }
    },
    {
      "cell_type": "code",
      "source": [
        "from google.colab import data_table\n",
        "data_table.enable_dataframe_formatter()\n",
        "fileName = input(\"Enter the name of the file: \") #enter the name of your file\n",
        "\n",
        "\n",
        "#read the SMILES codes\n",
        "fileFound = False\n",
        "try:\n",
        "  df = pd.read_excel(fileName)\n",
        "  fileFound = True\n",
        "except FileNotFoundError:\n",
        "  print(\"File not found\")\n",
        "\n",
        "if fileFound and \"SMILES\" in df.columns:\n",
        "    smiles = df[\"SMILES\"]\n",
        "else:\n",
        "    output =\"SMILES not found\"\n",
        "    smiles = []\n",
        "\n",
        "\n",
        "#calculate descriptors\n",
        "descriptors = create_descriptors_table(df[\"SMILES\"])\n",
        "descriptors['pKa'] = df[\"pKa\"]\n",
        "descriptors['pH'] = df[\"pH\"]\n",
        "descriptors['delta'] = descriptors.apply(lambda row: row['pH'] - row['pKa'] if df['type'][row.name] == 'acid' else row['pKa'] - row['pH'], axis=1)\n",
        "descriptors\n",
        "\n",
        "#split the data into acidic and basic molecules\n",
        "acids = descriptors[df['type'] == 'acid']\n",
        "acids = acids[acids_d.columns]\n",
        "bases = descriptors[df['type'] == 'base']\n",
        "bases = bases[bases_d.columns]"
      ],
      "metadata": {
        "id": "y7eRd-9spyyG"
      },
      "execution_count": null,
      "outputs": []
    },
    {
      "cell_type": "markdown",
      "source": [
        "Keep running this line."
      ],
      "metadata": {
        "id": "qLBGvUFgERw-"
      }
    },
    {
      "cell_type": "code",
      "source": [
        "%%R -i acids -i bases\n",
        "#predict for acids\n",
        "LR_fit = as.numeric(predict(model_LR_A, acids))\n",
        "RF_fit = as.numeric(predict(model_RF_A, acids))\n",
        "SVML_fit = as.numeric(predict(model_SVML_A, acids))\n",
        "acids$Prediction = ifelse(as.factor(round((LR_fit + RF_fit + SVML_fit)/3-1,0))=='0','Use Eq. 2', 'Use Eq. 1')\n",
        "\n",
        "#predict for bases\n",
        "bases$Prediction = ifelse(predict(model_SVML_B, bases)=='0','Use Eq. 2', 'Use Eq. 1')"
      ],
      "metadata": {
        "id": "iDqW9fvJBqGA"
      },
      "execution_count": null,
      "outputs": []
    },
    {
      "cell_type": "markdown",
      "source": [
        "This final cell will give you a `.csv` file that will automatically get downloaded to your computer."
      ],
      "metadata": {
        "id": "i3KKSYRLEVI0"
      }
    },
    {
      "cell_type": "code",
      "source": [
        "acids = ro.conversion.rpy2py(ro.r['acids'])\n",
        "bases = ro.conversion.rpy2py(ro.r['bases'])\n",
        "\n",
        "\n",
        "# Reset indices to ensure proper alignment\n",
        "acids = acids.reset_index(drop=True)\n",
        "bases = bases.reset_index(drop=True)\n",
        "df = df.reset_index(drop=True)\n",
        "\n",
        "# Create a list to store the combined data\n",
        "combined_data = []\n",
        "\n",
        "# Iterate over the original DataFrame and extract predictions\n",
        "acid_counter = 0\n",
        "base_counter = 0\n",
        "for i in range(len(df)):\n",
        "  if df['type'][i] == 'acid':\n",
        "    combined_data.append([df['id'][i], df['SMILES'][i], df['type'][i], df['pH'][i], acids['Prediction'][acid_counter]])\n",
        "    acid_counter += 1 # Increment acid counter\n",
        "  elif df['type'][i] == 'base':\n",
        "    combined_data.append([df['id'][i], df['SMILES'][i], df['type'][i], df['pH'][i], bases['Prediction'][base_counter]])\n",
        "    base_counter += 1 # Increment base counter\n",
        "\n",
        "# Create the output DataFrame\n",
        "output = pd.DataFrame(combined_data, columns=['id', 'SMILES', 'type', 'pH', 'Prediction'])\n",
        "\n",
        "#transform the output to csv and download it\n",
        "output.to_csv('LiProS_results.csv', index = False)\n",
        "files.download('LiProS_results.csv')\n",
        "output"
      ],
      "metadata": {
        "id": "hf6QkOrf_dOp"
      },
      "execution_count": null,
      "outputs": []
    }
  ]
}