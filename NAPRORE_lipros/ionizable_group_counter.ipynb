{
 "cells": [
  {
   "cell_type": "code",
   "execution_count": null,
   "metadata": {
    "id": "mp8N4PUg0G6s"
   },
   "outputs": [],
   "source": [
    "%%capture\n",
    "!pip install rdkit"
   ]
  },
  {
   "cell_type": "code",
   "execution_count": null,
   "metadata": {
    "id": "U4JZt-_bNYSY"
   },
   "outputs": [],
   "source": [
    "#bunch of cool stuff\n",
    "import pandas as pd\n",
    "import numpy as np\n",
    "import os\n",
    "import rdkit\n",
    "import io\n",
    "from PIL import Image\n",
    "from rdkit import Chem\n",
    "from rdkit.Chem import Draw\n",
    "from rdkit.Chem.Draw import IPythonConsole\n",
    "from rdkit.Chem.Draw import rdMolDraw2D\n",
    "from rdkit.Chem import AllChem"
   ]
  },
  {
   "cell_type": "code",
   "execution_count": null,
   "metadata": {
    "id": "IDKunwdLNaGl"
   },
   "outputs": [],
   "source": [
    "IPythonConsole.drawOptions.addAtomIndices = True\n",
    "IPythonConsole.molSize = 800,800"
   ]
  },
  {
   "cell_type": "code",
   "execution_count": null,
   "metadata": {
    "colab": {
     "base_uri": "https://localhost:8080/"
    },
    "id": "UvKDuG0wcqMI",
    "outputId": "0dbe64c2-01c1-44ee-b8cc-a19290e2fe70"
   },
   "outputs": [],
   "source": [
    "!git clone https://github.com/AstraZeneca/peptide-tools.git # get the peptide-tools repository to use the SMARTS .dat file\n",
    "substructures_smarts_file = 'peptide-tools/pIChemiSt/pichemist/data/smarts/legacy/smarts_pKaMatcher.dat' # set the path to the SMARTS file"
   ]
  },
  {
   "cell_type": "code",
   "execution_count": null,
   "metadata": {
    "id": "hRNjoExX5TDb"
   },
   "outputs": [],
   "source": [
    "def ionizable_groups(SMILES):\n",
    "  matches = {} # where the ion centers will be stored. I tried to save the indices to highlight them but some of the positions defined in the pKaMatcher file are wrong. To-do!\n",
    "  compound_mol = Chem.MolFromSmiles(SMILES)\n",
    "  global ion_centers\n",
    "  ion_centers = []\n",
    "\n",
    "  with open(substructures_smarts_file, 'r') as f:\n",
    "    for line in f.readlines(): # read the file line by line\n",
    "      ln = line.strip().split()\n",
    "      if not ln or line.startswith('#'): continue # skip empty lines and comments\n",
    "\n",
    "      substr_mol = Chem.MolFromSmarts(ln[1]) # get the substructure in the current line as Mol\n",
    "      substr_matches = compound_mol.GetSubstructMatches(substr_mol) # tuple of matches with the inputed molecule\n",
    "\n",
    "      if len(substr_matches) != 0: # if the matches tuple has at least one item\n",
    "        print(ln[1])\n",
    "        for substr in range(len(substr_matches)): # for every matched substructure\n",
    "          print(f\"Ciclo {substr}\")\n",
    "          print(substr_matches[substr])\n",
    "          compound_center = substr_matches[substr][int(ln[2])-1] # get the atom index for the ionization center\n",
    "          print(int(ln[2]))\n",
    "          if compound_center in ion_centers: # if the center has already been added, skip it\n",
    "            continue\n",
    "          else: # if it hasn't been added\n",
    "            ion_centers.append(compound_center) # add it for subsequent checks\n",
    "            matches[compound_center] = ln[5] # add the center and its type to the matches dictionary\n",
    "            if len(ln) > 6: # this checks if the substructure has more than one ionization center (e.g. catechol-like compounds)\n",
    "              compound_center = substr_matches[substr][int(ln[6])-1] # get the atom index for the second ionization center\n",
    "              ion_centers.append(compound_center) # add it for subsequent checks\n",
    "              matches[compound_center] = ln[9] # add the center and its type to the matches dictionary\n",
    "\n",
    "  total_acid = 0\n",
    "  total_base = 0\n",
    "  for key, value in matches.items():\n",
    "    if value == 'acid':\n",
    "      total_acid += 1\n",
    "    elif value == 'base':\n",
    "      total_base += 1\n",
    "\n",
    "\n",
    "  if total_acid + total_base > 0:\n",
    "    ions = \"Ionizable\"\n",
    "  else:\n",
    "    ions = \"Non-ionizable\"\n",
    "\n",
    "  return ions"
   ]
  },
  {
   "cell_type": "code",
   "execution_count": null,
   "metadata": {
    "colab": {
     "base_uri": "https://localhost:8080/",
     "height": 348
    },
    "id": "vMehCff1Fn_Y",
    "outputId": "830156f0-1ca9-48e0-a668-86e70b4829de"
   },
   "outputs": [],
   "source": [
    "#test = 'CC(C)CC(C(=O)NC(CC(=O)O)C(=O)NC(CC(C)C)C(=O)O)NC(=O)C(C(C)C)NC(=O)C(CCCCN)NC(=O)C(CC(=O)N)NC(=O)C(CCSC)NC(=O)C(CC(=O)O)NC(=O)C(CC1=CN=CN1)N ' # this is an example to try different SMILES\n",
    "test = 'CN1CCC23C4C1CC5=C2C(=C(C=C5)O)OC3C(C=C4)O '\n",
    "ionizable_groups(test)"
   ]
  },
  {
   "cell_type": "code",
   "execution_count": null,
   "metadata": {
    "colab": {
     "base_uri": "https://localhost:8080/"
    },
    "id": "osY3HPz0ZU1x",
    "outputId": "db7a5deb-1939-4b34-afdf-9a4179faf283"
   },
   "outputs": [],
   "source": [
    "%%capture\n",
    "df = pd.read_csv('NAPRORE_v4.2.csv')\n",
    "\n",
    "df['IONIZABLE'] = df['SMILES'].apply(lambda x: ionizable_groups(x))"
   ]
  },
  {
   "cell_type": "code",
   "execution_count": null,
   "metadata": {
    "colab": {
     "base_uri": "https://localhost:8080/",
     "height": 634
    },
    "id": "wUBe-a6BuLlK",
    "outputId": "4c864b04-292c-44b6-a300-c3b8e9156608"
   },
   "outputs": [],
   "source": [
    "df"
   ]
  },
  {
   "cell_type": "code",
   "execution_count": null,
   "metadata": {
    "id": "RrPMAc4Qdbip"
   },
   "outputs": [],
   "source": [
    "df.to_csv('NAPRORE_v4.2.csv')"
   ]
  }
 ],
 "metadata": {
  "colab": {
   "provenance": []
  },
  "kernelspec": {
   "display_name": "Python 3 (ipykernel)",
   "language": "python",
   "name": "python3"
  },
  "language_info": {
   "codemirror_mode": {
    "name": "ipython",
    "version": 3
   },
   "file_extension": ".py",
   "mimetype": "text/x-python",
   "name": "python",
   "nbconvert_exporter": "python",
   "pygments_lexer": "ipython3",
   "version": "3.12.5"
  }
 },
 "nbformat": 4,
 "nbformat_minor": 4
}
